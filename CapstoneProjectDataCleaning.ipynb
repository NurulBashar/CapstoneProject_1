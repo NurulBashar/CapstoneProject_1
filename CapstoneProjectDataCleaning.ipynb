{
 "cells": [
  {
   "cell_type": "markdown",
   "id": "bbd42ad2",
   "metadata": {},
   "source": [
    "# Capstone_project_data_cleaning"
   ]
  },
  {
   "cell_type": "code",
   "execution_count": null,
   "id": "44596065",
   "metadata": {},
   "outputs": [],
   "source": [
    "import pandas as pd\n",
    "import numpy as np\n",
    "import os\n"
   ]
  },
  {
   "cell_type": "code",
   "execution_count": null,
   "id": "48e0badc",
   "metadata": {},
   "outputs": [],
   "source": [
    "df1=pd.read_csv(r\"F:\\Desktop\\selenium project\\new_scrapping\\buy_property.csv\")"
   ]
  },
  {
   "cell_type": "code",
   "execution_count": null,
   "id": "db21ac1a",
   "metadata": {},
   "outputs": [],
   "source": [
    "df1\n"
   ]
  },
  {
   "cell_type": "code",
   "execution_count": null,
   "id": "aeafd18e",
   "metadata": {},
   "outputs": [],
   "source": [
    "\n",
    "Ask_for_price = (df1[\"Price\"] == \"Ask for price\").sum()\n",
    "\n",
    "\n",
    "print(f\"The number of Ask_for_price values in the 'Price' column: {Ask_for_price}\")\n"
   ]
  },
  {
   "cell_type": "code",
   "execution_count": null,
   "id": "ab9e623c",
   "metadata": {},
   "outputs": [],
   "source": [
    "df1.info()"
   ]
  },
  {
   "cell_type": "code",
   "execution_count": null,
   "id": "51892203",
   "metadata": {},
   "outputs": [],
   "source": [
    "df1.isnull().sum()"
   ]
  },
  {
   "cell_type": "code",
   "execution_count": null,
   "id": "6befc00c",
   "metadata": {},
   "outputs": [],
   "source": [
    "df1[\"Price\"].dtype"
   ]
  },
  {
   "cell_type": "code",
   "execution_count": null,
   "id": "01375fea",
   "metadata": {},
   "outputs": [],
   "source": [
    "print(df1[\"Price\"].apply(type).unique())\n"
   ]
  },
  {
   "cell_type": "code",
   "execution_count": null,
   "id": "6eaba323",
   "metadata": {},
   "outputs": [],
   "source": [
    "df1.Price"
   ]
  },
  {
   "cell_type": "code",
   "execution_count": null,
   "id": "34cf49ea",
   "metadata": {},
   "outputs": [],
   "source": [
    "df1\n"
   ]
  },
  {
   "cell_type": "code",
   "execution_count": null,
   "id": "9cb2e90b",
   "metadata": {},
   "outputs": [],
   "source": [
    "df1.isnull().sum()"
   ]
  },
  {
   "cell_type": "code",
   "execution_count": null,
   "id": "704df10e",
   "metadata": {},
   "outputs": [],
   "source": [
    "# Clean and convert the 'Price' column to integer\n",
    "df1[\"Price(AED)\"] = (\n",
    "    df1[\"Price\"]\n",
    "    .str.replace(\"[^0-9]\", \"\", regex=True)  # Remove non-numeric characters\n",
    "    .replace(\"\", \"0\")  # Replace empty strings with '0' to avoid errors\n",
    "    .astype(int)  # Convert to integer\n",
    ")\n",
    "\n",
    "# Display the DataFrame\n",
    "print(df1[\"Price(AED)\"].dtype)  # Verify the data type\n",
    "df1"
   ]
  },
  {
   "cell_type": "code",
   "execution_count": null,
   "id": "2b14ed35",
   "metadata": {},
   "outputs": [],
   "source": [
    "df1[\"Price(AED)\"].dtype"
   ]
  },
  {
   "cell_type": "code",
   "execution_count": null,
   "id": "81292abe",
   "metadata": {},
   "outputs": [],
   "source": [
    "df1.isnull().sum()"
   ]
  },
  {
   "cell_type": "code",
   "execution_count": null,
   "id": "8480126b",
   "metadata": {},
   "outputs": [],
   "source": [
    "df1.info()"
   ]
  },
  {
   "cell_type": "code",
   "execution_count": null,
   "id": "a8912d8f",
   "metadata": {},
   "outputs": [],
   "source": [
    "# Clean and convert the 'Price' column to integer\n",
    "df1[\"Area(sqft)\"] = (\n",
    "    df1[\"Area\"]\n",
    "    .str.replace(\"[^0-9]\", \"\", regex=True)  # Remove non-numeric characters\n",
    "    .replace(\"\", \"0\")  # Replace empty strings with '0' to avoid errors\n",
    "    .astype(int)  # Convert to integer\n",
    ")\n",
    "\n",
    "# Display the DataFrame\n",
    "print(df1[\"Area(sqft)\"].dtype)  # Verify the data type\n",
    "df1"
   ]
  },
  {
   "cell_type": "code",
   "execution_count": null,
   "id": "a5bdfd9b",
   "metadata": {},
   "outputs": [],
   "source": [
    "# Count the number of occurrences of \"studio\"\n",
    "studio_count = df1[\"Bedroom\"].str.lower().value_counts().get(\"studio\", 0)\n",
    "\n",
    "print(f\"'studio' appears {studio_count} times.\")\n"
   ]
  },
  {
   "cell_type": "code",
   "execution_count": null,
   "id": "73a574b5",
   "metadata": {},
   "outputs": [],
   "source": [
    "# Convert all values to strings, clean, and convert to integers\n",
    "df1[\"Bathroom\"] = (\n",
    "    df1[\"Bathroom\"]\n",
    "    .astype(str)  # Convert all values to strings\n",
    "    .str.replace(\"[^0-9]\", \"\", regex=True)  # Remove non-numeric characters\n",
    "    .replace(\"\", \"0\")  # Replace empty strings (from NaN or invalid values) with \"0\"\n",
    "    .astype(int)  # Convert to integers\n",
    ")\n",
    "\n",
    "# Display the cleaned DataFrame\n",
    "print(df1[\"Bathroom\"].dtype)\n",
    "df1\n"
   ]
  },
  {
   "cell_type": "code",
   "execution_count": null,
   "id": "cfe4b6c4",
   "metadata": {},
   "outputs": [],
   "source": [
    "df1.info()"
   ]
  },
  {
   "cell_type": "code",
   "execution_count": null,
   "id": "90cb4927",
   "metadata": {},
   "outputs": [],
   "source": [
    "# Drop the 'Price' and 'Area' columns\n",
    "df1 = df1.drop(columns=[\"Price\", \"Area\"])\n",
    "\n",
    "# Display the updated DataFrame\n",
    "df1"
   ]
  },
  {
   "cell_type": "code",
   "execution_count": null,
   "id": "12ff38a4",
   "metadata": {},
   "outputs": [],
   "source": [
    "# Create the 'per_sqft_price' column\n",
    "df1[\"per_sqft_price\"] = (df1[\"Price(AED)\"] / df1[\"Area(sqft)\"]).round(2)\n",
    "\n",
    "# Display the updated DataFrame\n",
    "df1"
   ]
  },
  {
   "cell_type": "code",
   "execution_count": null,
   "id": "edd4d0c8",
   "metadata": {},
   "outputs": [],
   "source": [
    "df1.iloc[:100]  # Prints rows 0 to 99\n"
   ]
  },
  {
   "cell_type": "code",
   "execution_count": null,
   "id": "94f7e107",
   "metadata": {},
   "outputs": [],
   "source": [
    "df1.info()"
   ]
  },
  {
   "cell_type": "code",
   "execution_count": null,
   "id": "8105c3b9",
   "metadata": {},
   "outputs": [],
   "source": [
    "# Strip spaces from the Bedroom column\n",
    "df1[\"Bedroom\"] = df1[\"Bedroom\"].str.strip()\n",
    "\n",
    "#  Replace \"studio\" with 1 and remove \"+\" or other problematic characters\n",
    "df1[\"Bedroom\"] = df1[\"Bedroom\"].replace(\"studio\", \"1\")  # Replace \"studio\" with \"1\"\n",
    "df1[\"Bedroom\"] = df1[\"Bedroom\"].str.replace(\"+\", \"\", regex=False)  # Remove \"+\" symbol\n",
    "\n",
    "#  Convert to numeric, coercing invalid values to NaN\n",
    "df1[\"Bedroom\"] = pd.to_numeric(df1[\"Bedroom\"], errors=\"coerce\")\n",
    "\n",
    "#  Handle NaN values (optional, e.g., replace with 0)\n",
    "df1[\"Bedroom\"] = df1[\"Bedroom\"].fillna(0).astype(int)\n",
    "\n",
    "# Display the updated DataFrame\n",
    "print(df1)\n"
   ]
  },
  {
   "cell_type": "code",
   "execution_count": null,
   "id": "40786860",
   "metadata": {},
   "outputs": [],
   "source": [
    "# Create a new column 'City' containing only the last name from the 'Location' column\n",
    "df1[\"City\"] = df1[\"Location\"].apply(lambda x: x.split(\",\")[-1].strip())\n",
    "\n",
    "# Display the updated DataFrame\n",
    "df1"
   ]
  },
  {
   "cell_type": "code",
   "execution_count": null,
   "id": "9a93257e",
   "metadata": {},
   "outputs": [],
   "source": [
    "df1.info()"
   ]
  },
  {
   "cell_type": "code",
   "execution_count": null,
   "id": "72c72ecf",
   "metadata": {},
   "outputs": [],
   "source": [
    "df1[\"Verification\"] = df1[\"Verification\"].fillna(0)\n",
    "df1[\"Agent\"] = df1[\"Agent\"].fillna(0)"
   ]
  },
  {
   "cell_type": "code",
   "execution_count": null,
   "id": "bc5a3d0e",
   "metadata": {},
   "outputs": [],
   "source": [
    "df1.info()"
   ]
  },
  {
   "cell_type": "code",
   "execution_count": null,
   "id": "a68b1f79",
   "metadata": {},
   "outputs": [],
   "source": [
    "df1.head()"
   ]
  },
  {
   "cell_type": "code",
   "execution_count": null,
   "id": "1b8e61e0",
   "metadata": {},
   "outputs": [],
   "source": [
    "# Method 1: Using value_counts()\n",
    "zero_count = (df1[\"Verification\"] == 0).sum()\n",
    "\n",
    "# Display the result\n",
    "print(f\"The number of 0 values in the 'Verification' column: {zero_count}\")"
   ]
  },
  {
   "cell_type": "code",
   "execution_count": null,
   "id": "7665a498",
   "metadata": {},
   "outputs": [],
   "source": []
  },
  {
   "cell_type": "code",
   "execution_count": null,
   "id": "9407d62f",
   "metadata": {},
   "outputs": [],
   "source": [
    "# Using value_counts()\n",
    "zero_count = (df1[\"Agent\"] == 0).sum()\n",
    "# Method 1: Using value_counts()\n",
    "zero_count = (df1[\"Verification\"] == 0).sum()\n",
    "\n",
    "# Display the result\n",
    "print(f\"The number of 0 values in the 'Verification' column: {zero_count}\")\n",
    "# Display the result\n",
    "print(f\"The number of 0 values in the 'Agent' column: {zero_count}\")"
   ]
  },
  {
   "cell_type": "code",
   "execution_count": null,
   "id": "9de7a5cc",
   "metadata": {},
   "outputs": [],
   "source": [
    "# Using value_counts()\n",
    "zero_count = (df1[\"Bedroom\"] == 0).sum()\n",
    "\n",
    "# Display the result\n",
    "print(f\"The number of 0 values in the 'Bedroom' column: {zero_count}\")"
   ]
  },
  {
   "cell_type": "code",
   "execution_count": null,
   "id": "d52d031d",
   "metadata": {},
   "outputs": [],
   "source": [
    "#  Using value_counts()\n",
    "zero_count = (df1[\"Bathroom\"] == 0).sum()\n",
    "\n",
    "# Display the result\n",
    "print(f\"The number of 0 values in the 'Bathroom' column: {zero_count}\")"
   ]
  },
  {
   "cell_type": "code",
   "execution_count": null,
   "id": "432a2426",
   "metadata": {},
   "outputs": [],
   "source": [
    "#  Using value_counts()\n",
    "zero_count = (df1[\"Price(AED)\"] == 0).sum()\n",
    "\n",
    "# Display the result\n",
    "print(f\"The number of 0 values in the 'Price' column: {zero_count}\")"
   ]
  },
  {
   "cell_type": "code",
   "execution_count": null,
   "id": "f104f04a",
   "metadata": {},
   "outputs": [],
   "source": [
    "# Drop rows where Price == 0 using the `drop` method\n",
    "df1.drop(df1[df1[\"Price(AED)\"] == 0].index,inplace=True)\n",
    "\n",
    "# Display the updated DataFrame\n",
    "df1"
   ]
  },
  {
   "cell_type": "code",
   "execution_count": null,
   "id": "bb208721",
   "metadata": {},
   "outputs": [],
   "source": [
    "# Using value_counts()\n",
    "zero_count = (df1[\"Price(AED)\"] == 0).sum()\n",
    "\n",
    "# Display the result\n",
    "print(f\"The number of 0 values in the 'Price' column: {zero_count}\")"
   ]
  },
  {
   "cell_type": "code",
   "execution_count": null,
   "id": "591ff177",
   "metadata": {},
   "outputs": [],
   "source": [
    "#  Using value_counts()\n",
    "zero_count = (df1[\"Area(sqft)\"] == 0).sum()\n",
    "\n",
    "# Display the result\n",
    "print(f\"The number of 0 values in the 'Area(sqft)' column: {zero_count}\")\n"
   ]
  },
  {
   "cell_type": "code",
   "execution_count": null,
   "id": "368e422b",
   "metadata": {},
   "outputs": [],
   "source": [
    "# Define the file path\n",
    "file_path = r\"F:\\Desktop\\selenium project\\new_scrapping\\test3.xlsx\"\n",
    "\n",
    "# Ensure the directory exists\n",
    "os.makedirs(os.path.dirname(file_path), exist_ok=True)\n",
    "\n",
    "# Save the DataFrame to an Excel file\n",
    "df1.to_excel(file_path, index=False)\n",
    "\n",
    "print(f\"DataFrame has been saved to: {file_path}\")"
   ]
  },
  {
   "cell_type": "code",
   "execution_count": null,
   "id": "d086e650",
   "metadata": {},
   "outputs": [],
   "source": [
    "df2=pd.read_csv(r\"F:\\Desktop\\selenium project\\new_scrapping\\Rent_property.csv\")\n",
    "df2"
   ]
  },
  {
   "cell_type": "code",
   "execution_count": null,
   "id": "5843992d",
   "metadata": {},
   "outputs": [],
   "source": [
    "df2.isnull().sum()"
   ]
  },
  {
   "cell_type": "code",
   "execution_count": null,
   "id": "5a23fe5f",
   "metadata": {},
   "outputs": [],
   "source": [
    "# Clean and convert the 'Price' column to integer\n",
    "df2[\"Rent(yearly)\"] = (\n",
    "    df2[\"Rent\"]\n",
    "    .str.replace(\"[^0-9]\", \"\", regex=True)  # Remove non-numeric characters\n",
    "    .replace(\"\", \"0\")  # Replace empty strings with '0' to avoid errors\n",
    "    .astype(int)  # Convert to integer\n",
    ")\n",
    "\n",
    "# Display the DataFrame\n",
    "print(df2[\"Rent(yearly)\"].dtype)  # Verify the data type\n",
    "df2"
   ]
  },
  {
   "cell_type": "code",
   "execution_count": null,
   "id": "ce736c5d",
   "metadata": {},
   "outputs": [],
   "source": [
    "# Clean and convert the 'Price' column to integer\n",
    "df2[\"Area(sqft)\"] = (\n",
    "    df2[\"Area\"]\n",
    "    .str.replace(\"[^0-9]\", \"\", regex=True)  # Remove non-numeric characters\n",
    "    .replace(\"\", \"0\")  # Replace empty strings with '0' to avoid errors\n",
    "    .astype(int)  # Convert to integer\n",
    ")\n",
    "\n",
    "# Display the DataFrame\n",
    "print(df2[\"Area(sqft)\"].dtype)  # Verify the data type\n",
    "df2"
   ]
  },
  {
   "cell_type": "code",
   "execution_count": null,
   "id": "3fad8c27",
   "metadata": {},
   "outputs": [],
   "source": [
    "# Create a new column 'City' containing only the last name from the 'Location' column\n",
    "df2[\"City\"] = df2[\"Location\"].apply(lambda x: x.split(\",\")[-1].strip())\n",
    "\n",
    "# Display the updated DataFrame\n",
    "df2"
   ]
  },
  {
   "cell_type": "code",
   "execution_count": null,
   "id": "a5a4da06",
   "metadata": {},
   "outputs": [],
   "source": [
    "# Count the number of occurrences of \"studio\"\n",
    "studio_count = df2[\"Bedroom\"].str.lower().value_counts().get(\"studio\", 0)\n",
    "\n",
    "print(f\"'studio' appears {studio_count} times.\")\n"
   ]
  },
  {
   "cell_type": "code",
   "execution_count": null,
   "id": "bb89c193",
   "metadata": {},
   "outputs": [],
   "source": [
    "# Strip spaces from the Bedroom column\n",
    "df2[\"Bedroom\"] = df2[\"Bedroom\"].str.strip()\n",
    "\n",
    "#  Replace \"studio\" with 1 and remove \"+\" or other problematic characters\n",
    "df2[\"Bedroom\"] = df2[\"Bedroom\"].replace(\"studio\", \"1\")  # Replace \"studio\" with \"1\"\n",
    "df2[\"Bedroom\"] = df2[\"Bedroom\"].str.replace(\"+\", \"\", regex=False)  # Remove \"+\" symbol\n",
    "\n",
    "# Convert to numeric, coercing invalid values to NaN\n",
    "df2[\"Bedroom\"] = pd.to_numeric(df2[\"Bedroom\"], errors=\"coerce\")\n",
    "\n",
    "#  Handle NaN values (optional, e.g., replace with 0)\n",
    "df2[\"Bedroom\"] = df2[\"Bedroom\"].fillna(0).astype(int)\n",
    "\n",
    "# Display the updated DataFrame\n",
    "print(df2)\n"
   ]
  },
  {
   "cell_type": "code",
   "execution_count": null,
   "id": "c0080bf7",
   "metadata": {},
   "outputs": [],
   "source": [
    "# Convert all values to strings, clean, and convert to integers\n",
    "df2[\"Bathroom\"] = (\n",
    "    df2[\"Bathroom\"]\n",
    "    .astype(str)  # Convert all values to strings\n",
    "    .str.replace(\"[^0-9]\", \"\", regex=True)  # Remove non-numeric characters\n",
    "    .replace(\"\", \"0\")  # Replace empty strings (from NaN or invalid values) with \"0\"\n",
    "    .astype(int)  # Convert to integers\n",
    ")\n",
    "\n",
    "# Display the cleaned DataFrame\n",
    "print(df2[\"Bathroom\"].dtype)\n",
    "df2\n"
   ]
  },
  {
   "cell_type": "code",
   "execution_count": null,
   "id": "cadfcace",
   "metadata": {},
   "outputs": [],
   "source": [
    "# Drop the 'Price' and 'Area' columns\n",
    "df2 = df2.drop(columns=[\"Rent\", \"Area\"])\n",
    "\n",
    "# Display the updated DataFrame\n",
    "df2"
   ]
  },
  {
   "cell_type": "code",
   "execution_count": null,
   "id": "4240923c",
   "metadata": {},
   "outputs": [],
   "source": [
    "#  Using value_counts()\n",
    "zero_count = (df2[\"Area(sqft)\"] == 0).sum()\n",
    "\n",
    "# Display the result\n",
    "print(f\"The number of 0 values in the 'Area(sqft)' column: {zero_count}\")"
   ]
  },
  {
   "cell_type": "code",
   "execution_count": null,
   "id": "4133bef5",
   "metadata": {},
   "outputs": [],
   "source": [
    "# Using value_counts()\n",
    "zero_count = (df2[\"Rent(yearly)\"] == 0).sum()\n",
    "\n",
    "# Display the result\n",
    "print(f\"The number of 0 values in the 'Area(sqft)' column: {zero_count}\")"
   ]
  },
  {
   "cell_type": "code",
   "execution_count": null,
   "id": "6bb97d43",
   "metadata": {},
   "outputs": [],
   "source": [
    "df2[\"Verification\"] = df2[\"Verification\"].fillna(0)\n",
    "df2[\"Agent\"] = df2[\"Agent\"].fillna(0)"
   ]
  },
  {
   "cell_type": "code",
   "execution_count": null,
   "id": "e249a3f1",
   "metadata": {},
   "outputs": [],
   "source": [
    "df2"
   ]
  },
  {
   "cell_type": "code",
   "execution_count": null,
   "id": "b8d49c42",
   "metadata": {},
   "outputs": [],
   "source": [
    "df2.info()"
   ]
  },
  {
   "cell_type": "code",
   "execution_count": null,
   "id": "3cec8e28",
   "metadata": {},
   "outputs": [],
   "source": [
    "df2.isnull().sum()"
   ]
  },
  {
   "cell_type": "code",
   "execution_count": null,
   "id": "5fd662f0",
   "metadata": {},
   "outputs": [],
   "source": [
    "# Define the file path\n",
    "file_path = r\"F:\\Desktop\\selenium project\\new_scrapping\\rent1.xlsx\"\n",
    "\n",
    "# Ensure the directory exists\n",
    "os.makedirs(os.path.dirname(file_path), exist_ok=True)\n",
    "\n",
    "# Save the DataFrame to an Excel file\n",
    "df2.to_excel(file_path, index=False)\n",
    "\n",
    "print(f\"DataFrame has been saved to: {file_path}\")"
   ]
  },
  {
   "cell_type": "code",
   "execution_count": null,
   "id": "8ae87fbe",
   "metadata": {},
   "outputs": [],
   "source": [
    "df2.info()"
   ]
  },
  {
   "cell_type": "code",
   "execution_count": null,
   "id": "cb26980f",
   "metadata": {},
   "outputs": [],
   "source": [
    "df3 = pd.read_csv(r\"F:\\Desktop\\selenium project\\new_scrapping\\commercial_property.csv\")\n",
    "df3\n"
   ]
  },
  {
   "cell_type": "code",
   "execution_count": null,
   "id": "a6481c7a",
   "metadata": {},
   "outputs": [],
   "source": [
    "df3"
   ]
  },
  {
   "cell_type": "code",
   "execution_count": null,
   "id": "857aa063",
   "metadata": {},
   "outputs": [],
   "source": [
    "df3.info()"
   ]
  },
  {
   "cell_type": "code",
   "execution_count": null,
   "id": "a192f127",
   "metadata": {},
   "outputs": [],
   "source": [
    "# Using value_counts()\n",
    "Ask_for_price = (df3[\"Rent\"] == \"Ask for price\").sum()\n",
    "\n",
    "# Display the result\n",
    "print(f\"The number of Ask_for_price values in the 'Price' column: {Ask_for_price}\")\n"
   ]
  },
  {
   "cell_type": "code",
   "execution_count": null,
   "id": "247daa18",
   "metadata": {},
   "outputs": [],
   "source": [
    "# Clean and convert the 'Price' column to integer\n",
    "df3[\"Rent(yearly)\"] = (\n",
    "    df3[\"Rent\"]\n",
    "    .str.replace(\"[^0-9]\", \"\", regex=True)  # Remove non-numeric characters\n",
    "    .replace(\"\", \"0\")  # Replace empty strings with '0' to avoid errors\n",
    "    .astype(int)  # Convert to integer\n",
    ")\n",
    "\n",
    "# Display the DataFrame\n",
    "print(df3[\"Rent(yearly)\"].dtype)  # Verify the data type\n",
    "df3"
   ]
  },
  {
   "cell_type": "code",
   "execution_count": null,
   "id": "74be8605",
   "metadata": {},
   "outputs": [],
   "source": [
    "# Clean and convert the 'Price' column to integer\n",
    "df3[\"Area(sqft)\"] = (\n",
    "    df3[\"Area\"]\n",
    "    .str.replace(\"[^0-9]\", \"\", regex=True)  # Remove non-numeric characters\n",
    "    .replace(\"\", \"0\")  # Replace empty strings with '0' to avoid errors\n",
    "    .astype(int)  # Convert to integer\n",
    ")\n",
    "\n",
    "# Display the DataFrame\n",
    "print(df3[\"Area(sqft)\"].dtype)  # Verify the data type\n",
    "df3"
   ]
  },
  {
   "cell_type": "code",
   "execution_count": null,
   "id": "1068e979",
   "metadata": {},
   "outputs": [],
   "source": [
    "# Create a new column 'City' containing only the last name from the 'Location' column\n",
    "df3[\"City\"] = df3[\"Location\"].apply(lambda x: x.split(\",\")[-1].strip())\n",
    "\n",
    "# Display the updated DataFrame\n",
    "df3"
   ]
  },
  {
   "cell_type": "code",
   "execution_count": null,
   "id": "d556e29e",
   "metadata": {},
   "outputs": [],
   "source": [
    "# Convert all values to strings, clean, and convert to integers\n",
    "df3[\"Bathroom\"] = (\n",
    "    df3[\"Bathroom\"]\n",
    "    .astype(str)  # Convert all values to strings\n",
    "    .str.replace(\"[^0-9]\", \"\", regex=True)  # Remove non-numeric characters\n",
    "    .replace(\"\", \"0\")  # Replace empty strings (from NaN or invalid values) with \"0\"\n",
    "    .astype(int)  # Convert to integers\n",
    ")\n",
    "\n",
    "# Display the cleaned DataFrame\n",
    "print(df3[\"Bathroom\"].dtype)\n",
    "df3"
   ]
  },
  {
   "cell_type": "code",
   "execution_count": null,
   "id": "53b54747",
   "metadata": {},
   "outputs": [],
   "source": [
    "# Drop the 'Price' and 'Area' columns\n",
    "df3 = df3.drop(columns=[\"Rent\", \"Area\",\"Bedroom\"])\n",
    "\n",
    "# Display the updated DataFrame\n",
    "df3"
   ]
  },
  {
   "cell_type": "code",
   "execution_count": null,
   "id": "511efa9d",
   "metadata": {},
   "outputs": [],
   "source": [
    "# Using value_counts()\n",
    "zero_count = (df3[\"Bathroom\"] == 0).sum()\n",
    "\n",
    "# Display the result\n",
    "print(f\"The number of 0 values in the 'Area(sqft)' column: {zero_count}\")"
   ]
  },
  {
   "cell_type": "code",
   "execution_count": null,
   "id": "6ff416cf",
   "metadata": {},
   "outputs": [],
   "source": [
    "df3[\"Verification\"] = df3[\"Verification\"].fillna(0)\n",
    "df3[\"Agent\"] = df3[\"Agent\"].fillna(0)"
   ]
  },
  {
   "cell_type": "code",
   "execution_count": null,
   "id": "8ad2a076",
   "metadata": {},
   "outputs": [],
   "source": [
    "df3.info()"
   ]
  },
  {
   "cell_type": "code",
   "execution_count": null,
   "id": "84f941e2",
   "metadata": {},
   "outputs": [],
   "source": [
    "#  Using value_counts()\n",
    "zero_count = (df3[\"Verification\"] == 0).sum()\n",
    "\n",
    "# Display the result\n",
    "print(f\"The number of 0 values in the 'Area(sqft)' column: {zero_count}\")"
   ]
  },
  {
   "cell_type": "code",
   "execution_count": null,
   "id": "80c740a6",
   "metadata": {},
   "outputs": [],
   "source": [
    " #Using value_counts()\n",
    "zero_count = (df3[\"Agent\"] == 0).sum()\n",
    "\n",
    "# Display the result\n",
    "print(f\"The number of 0 values in the 'Area(sqft)' column: {zero_count}\")"
   ]
  },
  {
   "cell_type": "code",
   "execution_count": null,
   "id": "81ed2837",
   "metadata": {},
   "outputs": [],
   "source": [
    "df3.isnull().sum()"
   ]
  },
  {
   "cell_type": "code",
   "execution_count": null,
   "id": "8c8e2643",
   "metadata": {},
   "outputs": [],
   "source": [
    "df3.info()"
   ]
  },
  {
   "cell_type": "code",
   "execution_count": null,
   "id": "aecb5706",
   "metadata": {},
   "outputs": [],
   "source": [
    "# Define the file path\n",
    "file_path = r\"F:\\Desktop\\selenium project\\new_scrapping\\c1.xlsx\"\n",
    "\n",
    "# Ensure the directory exists\n",
    "os.makedirs(os.path.dirname(file_path), exist_ok=True)\n",
    "\n",
    "# Save the DataFrame to an Excel file\n",
    "df3.to_excel(file_path, index=False)\n",
    "\n",
    "print(f\"DataFrame has been saved to: {file_path}\")"
   ]
  },
  {
   "cell_type": "code",
   "execution_count": null,
   "id": "7ea3a6f1",
   "metadata": {},
   "outputs": [],
   "source": []
  }
 ],
 "metadata": {
  "kernelspec": {
   "display_name": "Python 3 (ipykernel)",
   "language": "python",
   "name": "python3"
  },
  "language_info": {
   "codemirror_mode": {
    "name": "ipython",
    "version": 3
   },
   "file_extension": ".py",
   "mimetype": "text/x-python",
   "name": "python",
   "nbconvert_exporter": "python",
   "pygments_lexer": "ipython3",
   "version": "3.11.4"
  }
 },
 "nbformat": 4,
 "nbformat_minor": 5
}
